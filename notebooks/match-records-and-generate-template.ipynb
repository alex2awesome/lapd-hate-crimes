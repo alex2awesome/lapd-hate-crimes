{
 "cells": [
  {
   "cell_type": "code",
   "execution_count": 1,
   "metadata": {},
   "outputs": [],
   "source": [
    "import pandas as pd\n",
    "import unidecode\n",
    "import re"
   ]
  },
  {
   "cell_type": "markdown",
   "metadata": {},
   "source": [
    "# Read in data"
   ]
  },
  {
   "cell_type": "code",
   "execution_count": 3,
   "metadata": {},
   "outputs": [],
   "source": [
    "training_data_txt = open('../data/Xtown_ 2019 Hate Crime Write-Ups.txt', encoding='utf-8').read().split('\\n')"
   ]
  },
  {
   "cell_type": "code",
   "execution_count": 30,
   "metadata": {},
   "outputs": [],
   "source": [
    "all_records = []\n",
    "record = {}\n",
    "for line in training_data_txt[26:]:\n",
    "    if line == '':\n",
    "        continue\n",
    "    \n",
    "    line = unidecode.unidecode(line)\n",
    "    if line.startswith('Week') or re.search('\\d+\\s{0,1}-\\s{0,1}\\d+', line):\n",
    "        if len(record)>0:\n",
    "            all_records.append(record)\n",
    "            record = {}\n",
    "        continue\n",
    "    \n",
    "    if 'Assigned to' in line:\n",
    "        continue\n",
    "    elif 'Date:' in line:\n",
    "        record['Datetime'] = ':'.join(line.split(':')[1:]).strip()\n",
    "    elif 'Suspect\\'s Actions:' in line:\n",
    "        record['Suspect Actions'] = line.replace('Suspect\\'s Actions:', '').strip()\n",
    "    elif 'Crime Type:' in line:\n",
    "        record['Crime'] = line.replace('Crime Type:', '').strip()\n",
    "    elif 'Weapon Type:' in line:\n",
    "        record['Weapon'] = line.replace('Weapon Type:', '').strip()\n",
    "    elif 'Neighborhood:' in line:\n",
    "        record['Neighborhood'] = line.replace('Neighborhood:', '').strip()\n",
    "    elif 'Location:' in line:\n",
    "        record['Location'] = line.replace('Location:', '').strip()\n",
    "    elif 'suspect' in line.lower().strip():\n",
    "        record['Description'] = line.replace('Description:', '').strip()\n",
    "#     import pdb; pdb.set_trace()"
   ]
  },
  {
   "cell_type": "code",
   "execution_count": 31,
   "metadata": {},
   "outputs": [],
   "source": [
    "first_records_csv = pd.DataFrame(all_records)"
   ]
  },
  {
   "cell_type": "code",
   "execution_count": 32,
   "metadata": {},
   "outputs": [],
   "source": [
    "second_records_data_csv = pd.read_csv('../data/Xtown_ Hate Crime Redesign - Sheet1.csv')"
   ]
  },
  {
   "cell_type": "code",
   "execution_count": 34,
   "metadata": {},
   "outputs": [],
   "source": [
    "all_records_csv = pd.concat([\n",
    "    first_records_csv,\n",
    "    second_records_data_csv\n",
    "], sort=False)"
   ]
  },
  {
   "cell_type": "code",
   "execution_count": 35,
   "metadata": {},
   "outputs": [],
   "source": [
    "all_records_csv.to_csv('../data/all_records_df.csv', index=False)"
   ]
  },
  {
   "cell_type": "code",
   "execution_count": 39,
   "metadata": {},
   "outputs": [],
   "source": [
    "all_records_df = pd.read_csv('../data/all_records_df.csv')"
   ]
  },
  {
   "cell_type": "code",
   "execution_count": 40,
   "metadata": {},
   "outputs": [],
   "source": [
    "raw_data_df = pd.read_csv('../data/raw_data.csv')"
   ]
  },
  {
   "cell_type": "code",
   "execution_count": null,
   "metadata": {},
   "outputs": [],
   "source": []
  },
  {
   "cell_type": "markdown",
   "metadata": {},
   "source": [
    "# Map Codes to Sentences"
   ]
  },
  {
   "cell_type": "code",
   "execution_count": 45,
   "metadata": {},
   "outputs": [],
   "source": [
    "raw_data_df['norm_date'] = (raw_data_df['Date Occ']\n",
    "                            .pipe(lambda s: pd.to_datetime(s, utc=True))\n",
    "                            .dt.strftime('%Y-%m-%d')\n",
    "                           )\n",
    "all_records_df['norm_date'] = (all_records_df['Datetime'].fillna('')\n",
    "                               .apply(lambda x: x if '2019' in x else (x + ', 2019'))\n",
    "                               .pipe(lambda s: pd.to_datetime(s, errors='coerce'))\n",
    "                               .dt.strftime('%Y-%m-%d')\n",
    "                              )"
   ]
  },
  {
   "cell_type": "code",
   "execution_count": 72,
   "metadata": {},
   "outputs": [],
   "source": [
    "merged_records_df = (all_records_df\n",
    " .merge(raw_data_df, how='left', left_on='norm_date', right_on='norm_date')\n",
    " .loc[lambda df: df.apply(lambda x: match_location(x['Neighborhood_x'], x['Neighborhood_y']) > .7, axis=1)]\n",
    " .loc[lambda df: df.apply(lambda x: match_location(x['Location_x'], x['Location_y']) > .7, axis=1)]\n",
    ")"
   ]
  },
  {
   "cell_type": "code",
   "execution_count": null,
   "metadata": {},
   "outputs": [],
   "source": []
  },
  {
   "cell_type": "code",
   "execution_count": null,
   "metadata": {},
   "outputs": [],
   "source": []
  },
  {
   "cell_type": "code",
   "execution_count": 56,
   "metadata": {},
   "outputs": [],
   "source": [
    "import datetime\n",
    "import jellyfish\n",
    "import re"
   ]
  },
  {
   "cell_type": "code",
   "execution_count": 66,
   "metadata": {},
   "outputs": [],
   "source": [
    "def match_location(loc_1, loc_2):\n",
    "    ## fix formatting\n",
    "    if pd.isnull(loc_1):\n",
    "        loc_1 = ''\n",
    "    if pd.isnull(loc_2):\n",
    "        loc_2 = ''\n",
    "    loc_1 = ' %s ' % loc_1.strip().lower()\n",
    "    loc_2 = ' %s ' % loc_2.strip().lower()\n",
    "           \n",
    "    ## match on numbers \n",
    "    numbers_1 = re.findall('\\d+', loc_1)\n",
    "    numbers_2 = re.findall('\\d+', loc_2)\n",
    "    num_match = True\n",
    "    if len(numbers_1) != len(numbers_2):\n",
    "        num_match = False\n",
    "    \n",
    "    for n_1, n_2 in zip(numbers_1, numbers_2):\n",
    "        num_match = num_match and (n_1 == n_2)\n",
    "      \n",
    "    ## format for matching...\n",
    "    ## remove numbers \n",
    "    numbers_1 = re.sub('\\d+', ' ', loc_1)\n",
    "    numbers_2 = re.sub('\\d+', ' ', loc_2)\n",
    "    \n",
    "    ## remove other stuff\n",
    "    to_remove = ['block of', 'th']\n",
    "    to_replace = {'ave': 'av', 'street': 'st', \n",
    "                  'blvd': 'bl', 'west' :'w', \n",
    "                  'east': 'e', 'south': 's',\n",
    "                  'north': 'n', 'highway': 'hy'\n",
    "                 }\n",
    "    for r in to_remove:\n",
    "        loc_1 = loc_1.replace(' %s ' % r, ' ')\n",
    "        loc_2 = loc_2.replace(' %s ' % r, ' ')\n",
    "        \n",
    "    for r_old, r_new in to_replace.items():\n",
    "        loc_1 = loc_1.replace(' %s ' % r_old, ' %s ' % r_new)\n",
    "        loc_2 = loc_2.replace(' %s ' % r_new, ' %s ' % r_new)\n",
    " \n",
    "    loc_1 = ' '.join(loc_1.split())\n",
    "    loc_2 = ' '.join(loc_2.split())\n",
    "    \n",
    "    dist = jellyfish.jaro_distance(loc_1, loc_2)\n",
    "    if num_match:\n",
    "        return dist\n",
    "    else:\n",
    "        return dist > .95\n"
   ]
  },
  {
   "cell_type": "code",
   "execution_count": 217,
   "metadata": {
    "scrolled": true
   },
   "outputs": [],
   "source": [
    "loc_matcher = []\n",
    "for loc_1 in raw_data_df['Location'].str.lower().str.replace('.', '').unique():\n",
    "    for loc_2 in data_df['Location'].str.lower().str.replace(', los angeles', '').str.replace('.', '').unique():\n",
    "        loc_matcher.append({\n",
    "            'loc_raw': loc_1,\n",
    "            'loc_spread': loc_2,\n",
    "            'distance': match_location(loc_1, loc_2)\n",
    "        })"
   ]
  },
  {
   "cell_type": "code",
   "execution_count": 221,
   "metadata": {},
   "outputs": [],
   "source": [
    "loc_matcher_df = pd.DataFrame(loc_matcher).loc[lambda df: df['distance'] > .8]"
   ]
  },
  {
   "cell_type": "code",
   "execution_count": 44,
   "metadata": {},
   "outputs": [],
   "source": [
    "unique_data_df = data_df.loc[unique_idx]"
   ]
  },
  {
   "cell_type": "markdown",
   "metadata": {},
   "source": [
    "# Look at sentence overlaps to learn templates"
   ]
  },
  {
   "cell_type": "code",
   "execution_count": null,
   "metadata": {},
   "outputs": [],
   "source": [
    "import spacy\n",
    "nlp = spacy.load('en_core_web_sm')\n",
    "import difflib\n",
    "import itertools"
   ]
  },
  {
   "cell_type": "code",
   "execution_count": 72,
   "metadata": {},
   "outputs": [],
   "source": [
    "diff_comparison = []\n",
    "\n",
    "for desc_1_idx in range(len(unique_data_df)):\n",
    "    for desc_2_idx in range(desc_1_idx+1, len(unique_data_df)):\n",
    "        ## what is the overlap between desc_1 and desc_2\n",
    "        d1 = unique_data_df['Description'].iloc[desc_1_idx].strip()\n",
    "        d2 = unique_data_df['Description'].iloc[desc_2_idx].strip()\n",
    "        \n",
    "        d1_sents = list(nlp(d1).sents)\n",
    "        d2_sents = list(nlp(d2).sents)\n",
    "        \n",
    "        for sentence_1, sentence_2 in itertools.product(d1_sents, d2_sents):\n",
    "        \n",
    "        max_len = max(len(d1), len(d2))\n",
    "\n",
    "        diff = difflib.ndiff(d1, d2)\n",
    "        diff_list = list(diff)\n",
    "        common_diff = list(filter(lambda x: x[0] not in  ['+', '-', '?'], diff_list))\n",
    "        diff_ratio = len(common_diff) / max_len\n",
    "        \n",
    "        diff_comparison.append({\n",
    "            'd1': d1,\n",
    "            'd2': d2,\n",
    "            'diff_list': diff_list,\n",
    "            'common_diff': common_diff,\n",
    "            'diff_ratio': diff_ratio\n",
    "        })"
   ]
  },
  {
   "cell_type": "code",
   "execution_count": 74,
   "metadata": {},
   "outputs": [],
   "source": [
    "diff_comp_df = pd.DataFrame(diff_comparison)"
   ]
  },
  {
   "cell_type": "code",
   "execution_count": 78,
   "metadata": {},
   "outputs": [],
   "source": [
    "%matplotlib inline"
   ]
  },
  {
   "cell_type": "code",
   "execution_count": 80,
   "metadata": {},
   "outputs": [
    {
     "data": {
      "text/plain": [
       "<matplotlib.axes._subplots.AxesSubplot at 0x173426cc4e0>"
      ]
     },
     "execution_count": 80,
     "metadata": {},
     "output_type": "execute_result"
    },
    {
     "data": {
      "image/png": "[encoded data removed]",
      "text/plain": [
       "<Figure size 432x288 with 1 Axes>"
      ]
     },
     "metadata": {
      "needs_background": "light"
     },
     "output_type": "display_data"
    }
   ],
   "source": [
    "diff_comp_df['diff_ratio'].hist(bins=50)"
   ]
  },
  {
   "cell_type": "code",
   "execution_count": 83,
   "metadata": {},
   "outputs": [
    {
     "data": {
      "text/plain": [
       "['  The',\n",
       " '  suspect',\n",
       " '  the',\n",
       " '  of',\n",
       " '  The',\n",
       " '  crime',\n",
       " '  was',\n",
       " '  reported',\n",
       " '  as',\n",
       " '  a',\n",
       " '  hate',\n",
       " '  crime',\n",
       " '  with']"
      ]
     },
     "execution_count": 83,
     "metadata": {},
     "output_type": "execute_result"
    }
   ],
   "source": [
    "diff_comp_df.loc[lambda df : df['diff_ratio'] > .4].iloc[0]['common_diff']"
   ]
  },
  {
   "cell_type": "code",
   "execution_count": null,
   "metadata": {},
   "outputs": [],
   "source": []
  },
  {
   "cell_type": "code",
   "execution_count": null,
   "metadata": {},
   "outputs": [],
   "source": []
  }
 ],
 "metadata": {
  "hide_input": false,
  "kernelspec": {
   "display_name": "Python 3",
   "language": "python",
   "name": "python3"
  },
  "language_info": {
   "codemirror_mode": {
    "name": "ipython",
    "version": 3
   },
   "file_extension": ".py",
   "mimetype": "text/x-python",
   "name": "python",
   "nbconvert_exporter": "python",
   "pygments_lexer": "ipython3",
   "version": "3.7.3"
  },
  "latex_envs": {
   "LaTeX_envs_menu_present": true,
   "autoclose": false,
   "autocomplete": true,
   "bibliofile": "biblio.bib",
   "cite_by": "apalike",
   "current_citInitial": 1,
   "eqLabelWithNumbers": true,
   "eqNumInitial": 1,
   "hotkeys": {
    "equation": "Ctrl-E",
    "itemize": "Ctrl-I"
   },
   "labels_anchors": false,
   "latex_user_defs": false,
   "report_style_numbering": false,
   "user_envs_cfg": false
  }
 },
 "nbformat": 4,
 "nbformat_minor": 2
}
