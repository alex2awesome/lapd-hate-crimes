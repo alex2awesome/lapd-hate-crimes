{
 "cells": [
  {
   "cell_type": "code",
   "execution_count": 1,
   "metadata": {},
   "outputs": [],
   "source": [
    "import pandas as pd\n",
    "import matplotlib.pyplot as plt\n",
    "%matplotlib inline\n",
    "from tqdm import tqdm_notebook as tqdm\n",
    "plt.rc('font', size=18)\n",
    "import os"
   ]
  },
  {
   "cell_type": "markdown",
   "metadata": {},
   "source": [
    "# Explore and Cut Data"
   ]
  },
  {
   "cell_type": "code",
   "execution_count": null,
   "metadata": {},
   "outputs": [],
   "source": [
    "full_nyt_corpus = pd.read_csv('../nyt_corpus/unprocessed_full_data_df.csv')\n",
    "\n",
    "## get word counts\n",
    "t_wc = {}\n",
    "for idx, body in tqdm(full_nyt_corpus['body'].iteritems(), total=len(full_nyt_corpus)):\n",
    "    if pd.notnull(body):\n",
    "        t_wc[idx] = len(body.strip().split())\n",
    "    else:\n",
    "        t_wc[idx] = 0\n",
    "\n",
    "full_nyt_corpus['wc'] = pd.Series(t_wc)\n",
    "full_nyt_corpus['wc_bins'] = pd.cut(full_nyt_corpus['wc'], bins=range(0, 2000, 100))\n",
    "full_nyt_corpus['pub_date'] = pd.to_datetime(full_nyt_corpus['pub_date'])\n",
    "full_nyt_corpus['date_bins'] = pd.cut(full_nyt_corpus['pub_date'], bins=20)\n",
    "\n",
    "## filter to crime stories\n",
    "crime_stories = (full_nyt_corpus\n",
    "                 .loc[lambda df: df['body'].notnull()]\n",
    "                 .loc[lambda df: df['body'].str.lower().str.contains('crime')]\n",
    "                )\n",
    "\n",
    "crime_stories.to_csv('../data/nyt-corpus-crime-stores.csv')"
   ]
  },
  {
   "cell_type": "code",
   "execution_count": null,
   "metadata": {},
   "outputs": [],
   "source": [
    "## Plot: Counts of Articles\n",
    "ax = full_nyt_corpus['date_bins'].value_counts().sort_index().plot(label='# All Stories', figsize=(4, 4))\n",
    "ax = crime_stories['date_bins'].value_counts().sort_index().plot(label='# Crime Stories', ax=ax)\n",
    "plt.semilogy()\n",
    "plt.legend()\n",
    "plt.ylabel('Counts')\n",
    "date_strs = list(map(lambda x: x.left.strftime('%Y-%m'), crime_stories['date_bins'].value_counts().sort_index().index))\n",
    "plt.xticks(range(0, 20, 2), date_strs[::2], rotation='vertical')\n",
    "ax.spines['top'].set_visible(False)\n",
    "ax.spines['right'].set_visible(False)"
   ]
  },
  {
   "cell_type": "code",
   "execution_count": null,
   "metadata": {},
   "outputs": [],
   "source": [
    "## Plot: Word Count\n",
    "ax = (full_nyt_corpus['wc_bins']\n",
    "      .value_counts()\n",
    "      .sort_index()\n",
    "      .pipe(lambda s: s/s.sum())\n",
    "      .plot(kind='bar', figsize=(4, 4), alpha=.5, label='All Stories')\n",
    "     )\n",
    "(crime_stories['wc_bins']\n",
    " .value_counts()\n",
    " .sort_index()\n",
    " .pipe(lambda s: s/s.sum()).plot(kind='bar', ax=ax, label='Crime Stories', alpha=.5, color='olive')\n",
    ")\n",
    "plt.legend()\n",
    "plt.xticks(range(0, 20, 2), range(0, 2000, 200), rotation='vertical')\n",
    "plt.ylabel('Frac. stories')\n",
    "plt.xlabel('Word Count')\n",
    "ax.spines['right'].set_visible(False)\n",
    "ax.spines['top'].set_visible(False)"
   ]
  },
  {
   "cell_type": "markdown",
   "metadata": {},
   "source": [
    "# Model Paragraphs"
   ]
  },
  {
   "cell_type": "code",
   "execution_count": 2,
   "metadata": {},
   "outputs": [],
   "source": [
    "import numpy as np \n",
    "import pandas as pd"
   ]
  },
  {
   "cell_type": "code",
   "execution_count": 3,
   "metadata": {},
   "outputs": [
    {
     "name": "stderr",
     "output_type": "stream",
     "text": [
      "C:\\ProgramData\\Anaconda3\\lib\\site-packages\\IPython\\core\\interactiveshell.py:3057: DtypeWarning: Columns (5) have mixed types. Specify dtype option on import or set low_memory=False.\n",
      "  interactivity=interactivity, compiler=compiler, result=result)\n"
     ]
    }
   ],
   "source": [
    "crime_data = pd.read_csv('../data/nyt-corpus-crime-stores.csv')"
   ]
  },
  {
   "cell_type": "code",
   "execution_count": 4,
   "metadata": {},
   "outputs": [],
   "source": [
    "glove = open('../data/glove.6B.50d.txt', encoding='utf-8').readlines()\n",
    "glove = list(map(lambda x: x.strip(), glove))"
   ]
  },
  {
   "cell_type": "code",
   "execution_count": 5,
   "metadata": {},
   "outputs": [],
   "source": [
    "glove_dict = {}\n",
    "for line in glove:\n",
    "    chunks = line.split()\n",
    "    word = chunks[0]\n",
    "    vec = list(map(float, chunks[1:]))\n",
    "    glove_dict[word] = np.array(vec)"
   ]
  },
  {
   "cell_type": "code",
   "execution_count": 7,
   "metadata": {},
   "outputs": [],
   "source": [
    "from more_itertools import unique_everseen\n",
    "import unidecode\n",
    "# import spacy\n",
    "import string\n",
    "from nltk.corpus import stopwords\n",
    "import re"
   ]
  },
  {
   "cell_type": "code",
   "execution_count": 8,
   "metadata": {},
   "outputs": [],
   "source": [
    "english_stopwords = stopwords.words('english')\n",
    "page_num_regex = re.compile('\\s[a-f]\\d+(\\s|$)')\n",
    "specific_stop_words = [\n",
    "    'article',\n",
    "    'page',\n",
    "    'sportsmonday',\n",
    "    'sportstuesday',\n",
    "    'sportswednesday',\n",
    "    'sportsthursday',\n",
    "    'sportsfriday',\n",
    "    'sportssaturday',\n",
    "    'sportssunday',\n",
    "    'times',\n",
    "    'caption',\n",
    "    'science times',\n",
    "    'business day',\n",
    "    'editing error page',\n",
    "    'ap sports',\n",
    "    'ap',\n",
    "    'reuters',\n",
    "    'op ed contributor',\n",
    "    'books times',\n",
    "    'music review',\n",
    "    'op ed',\n",
    "    'sports times',\n",
    "    'articles , pages',\n",
    "    'articles pages',\n",
    "    'special today',\n",
    "    'science f1',\n",
    "    'art review',\n",
    "    'television review',\n",
    "    'articles series',\n",
    "    'ed contributor',\n",
    "    'news briefs',\n",
    "    'articles series',\n",
    "    'news analysis',\n",
    "    'sports people',\n",
    "    'company news',\n",
    "    'metro : new york',\n",
    "    'metro : new jersey',\n",
    "    'metro : new york city',\n",
    "    'metro : new york state',\n",
    "    'lead : editor',\n",
    "    'op - ed',\n",
    "    'company reports',\n",
    "    'dance review',\n",
    "    'theater review',\n",
    "    'public lives',\n",
    "    'world business , section w',\n",
    "    'world business briefing : europe',\n",
    "    'world business briefing : asia',\n",
    "    'world business briefings : middle east',\n",
    "    'world business briefing : africa',\n",
    "    'world business briefing : americas',\n",
    "    'world business briefings : europe',\n",
    "    'world business briefings : asia',\n",
    "    'world business briefing : world trade'\n",
    "]\n",
    "stopwords = specific_stop_words + english_stopwords"
   ]
  },
  {
   "cell_type": "code",
   "execution_count": 9,
   "metadata": {},
   "outputs": [],
   "source": [
    "def preprocess_lite(body):\n",
    "    \"\"\"preprocess without spacy.\"\"\"\n",
    "    body = body.strip()\n",
    "    \n",
    "    ### replace stopwords\n",
    "    for stopword in stopwords:\n",
    "        ## stopword in body\n",
    "        body = body.replace(' ' + stopword + ' ', ' ')\n",
    "        ## stopword at start\n",
    "        if body[:len(stopword + ' ')] == (stopword + ' '):\n",
    "            body = body[len(stopword + ' '):]\n",
    "        ## stopword at end\n",
    "        if body[-len(' ' + stopword):] == (' ' + stopword):\n",
    "            body = body[:-len(' ' + stopword)]\n",
    "        \n",
    "        \n",
    "    ### replace page numbers\n",
    "    body = re.sub(page_num_regex, ' ', body)\n",
    "        \n",
    "    return unidecode.unidecode(body)"
   ]
  },
  {
   "cell_type": "code",
   "execution_count": 11,
   "metadata": {},
   "outputs": [],
   "source": [
    "def process_paragraphs(text):\n",
    "    text = unidecode.unidecode(text)\n",
    "    \n",
    "    ## remove duplicate paragraphs\n",
    "    paragraphs = text.split('\\n')\n",
    "    paragraphs = list(filter(lambda x: x != '', paragraphs))\n",
    "    paragraphs = list(unique_everseen(paragraphs))[:10]\n",
    "    \n",
    "    ## \n",
    "    mean_paragraph_vecs = []\n",
    "    for paragraph in paragraphs:\n",
    "        paragraph = paragraph.lower()\n",
    "        \n",
    "        # remove punc\n",
    "        for punct in '!\"#$%&\\()*+,-./:;<=>?@[\\\\]^_`{|}~':\n",
    "            paragraph = paragraph.replace(punct, ' ')\n",
    "\n",
    "        # remove stopwords\n",
    "        paragraph = preprocess_lite(paragraph)\n",
    "        \n",
    "        paragraph_vecs = []\n",
    "        for word in paragraph.split():\n",
    "            if word in glove_dict:\n",
    "                paragraph_vecs.append(glove_dict[word])\n",
    "        \n",
    "        par_mean = np.array(paragraph_vecs).mean(axis=0)\n",
    "        mean_paragraph_vecs.append(par_mean)\n",
    "    return paragraphs, mean_paragraph_vecs"
   ]
  },
  {
   "cell_type": "code",
   "execution_count": 12,
   "metadata": {},
   "outputs": [],
   "source": [
    "import swifter"
   ]
  },
  {
   "cell_type": "code",
   "execution_count": 13,
   "metadata": {},
   "outputs": [
    {
     "name": "stderr",
     "output_type": "stream",
     "text": [
      "C:\\ProgramData\\Anaconda3\\lib\\site-packages\\ipykernel_launcher.py:26: RuntimeWarning: Mean of empty slice.\n"
     ]
    },
    {
     "data": {
      "application/vnd.jupyter.widget-view+json": {
       "model_id": "1489f933c0694dd298bfbf7ddbb3f5af",
       "version_major": 2,
       "version_minor": 0
      },
      "text/plain": [
       "HBox(children=(IntProgress(value=0, description='Pandas Apply', max=10000, style=ProgressStyle(description_wid…"
      ]
     },
     "metadata": {},
     "output_type": "display_data"
    },
    {
     "name": "stdout",
     "output_type": "stream",
     "text": [
      "\n"
     ]
    }
   ],
   "source": [
    "par_vecs = crime_data['body'].iloc[:10000].swifter.apply(process_paragraphs)"
   ]
  },
  {
   "cell_type": "code",
   "execution_count": 8,
   "metadata": {},
   "outputs": [],
   "source": [
    "import json"
   ]
  },
  {
   "cell_type": "code",
   "execution_count": 13,
   "metadata": {},
   "outputs": [],
   "source": [
    "tm_docs = []\n",
    "       \n",
    "with open('../topic_model/data/vocab.txt') as f:\n",
    "    vocab = f.read().split('\\n')[:-1]\n",
    "    \n",
    "with open('../topic_model/data/doc_vecs.json') as f:\n",
    "    for line in f:\n",
    "        tm_docs.append(json.loads(line))"
   ]
  },
  {
   "cell_type": "code",
   "execution_count": 25,
   "metadata": {},
   "outputs": [],
   "source": [
    "def process_tm_vec(vecs):\n",
    "    mean_paragraph_vecs = []\n",
    "    for vec in vecs:\n",
    "        paragraph_vecs = []\n",
    "        for word_id in vec:\n",
    "            word = vocab[word_id]\n",
    "            if word in glove_dict:\n",
    "                paragraph_vecs.append(glove_dict[word])\n",
    "\n",
    "        par_mean = np.array(paragraph_vecs).mean(axis=0)\n",
    "        mean_paragraph_vecs.append(par_mean)\n",
    "    return mean_paragraph_vecs"
   ]
  },
  {
   "cell_type": "code",
   "execution_count": 27,
   "metadata": {},
   "outputs": [
    {
     "data": {
      "application/vnd.jupyter.widget-view+json": {
       "model_id": "cd8c8095943d4a9cabbcf4a96fbb3302",
       "version_major": 2,
       "version_minor": 0
      },
      "text/plain": [
       "HBox(children=(IntProgress(value=0, max=48695), HTML(value='')))"
      ]
     },
     "metadata": {},
     "output_type": "display_data"
    },
    {
     "name": "stderr",
     "output_type": "stream",
     "text": [
      "C:\\ProgramData\\Anaconda3\\lib\\site-packages\\ipykernel_launcher.py:10: RuntimeWarning: Mean of empty slice.\n",
      "  # Remove the CWD from sys.path while we load stuff.\n",
      "C:\\ProgramData\\Anaconda3\\lib\\site-packages\\numpy\\core\\_methods.py:85: RuntimeWarning: invalid value encountered in double_scalars\n",
      "  ret = ret.dtype.type(ret / rcount)\n"
     ]
    },
    {
     "name": "stdout",
     "output_type": "stream",
     "text": [
      "\n"
     ]
    }
   ],
   "source": [
    "all_vecs = []\n",
    "for vecs in tqdm(tm_docs):\n",
    "    mean_vecs = process_tm_vec(vecs['paragraphs'])\n",
    "    all_vecs.extend(mean_vecs)"
   ]
  },
  {
   "cell_type": "code",
   "execution_count": 28,
   "metadata": {},
   "outputs": [
    {
     "data": {
      "text/plain": [
       "1031448"
      ]
     },
     "execution_count": 28,
     "metadata": {},
     "output_type": "execute_result"
    }
   ],
   "source": [
    "len(all_vecs)"
   ]
  },
  {
   "cell_type": "code",
   "execution_count": 57,
   "metadata": {},
   "outputs": [],
   "source": [
    "all_vecs_arr_pre_drop = np.zeros((len(all_vecs), len(all_vecs[0])))\n",
    "for idx, vec in enumerate(all_vecs):\n",
    "    all_vecs_arr_pre_drop[idx] = vec\n",
    "\n",
    "all_vecs_arr = all_vecs_arr_pre_drop[np.where(~np.isnan(all_vecs_arr_pre_drop).any(axis=1))]"
   ]
  },
  {
   "cell_type": "code",
   "execution_count": 71,
   "metadata": {},
   "outputs": [],
   "source": [
    "accepted = np.where(~np.isnan(all_vecs_arr_pre_drop).any(axis=1))[0]\n",
    "accepted_set = set(np.where(~np.isnan(all_vecs_arr_pre_drop).any(axis=1))[0])"
   ]
  },
  {
   "cell_type": "code",
   "execution_count": 32,
   "metadata": {},
   "outputs": [],
   "source": [
    "from sklearn.cluster import KMeans\n",
    "import numpy as np\n",
    "kmeans = KMeans(n_clusters=10).fit(all_vecs_arr[:200000])"
   ]
  },
  {
   "cell_type": "code",
   "execution_count": 50,
   "metadata": {},
   "outputs": [],
   "source": [
    "par_clusters = kmeans.predict(all_vecs_arr)"
   ]
  },
  {
   "cell_type": "code",
   "execution_count": 70,
   "metadata": {},
   "outputs": [
    {
     "data": {
      "text/plain": [
       "(998374,)"
      ]
     },
     "execution_count": 70,
     "metadata": {},
     "output_type": "execute_result"
    }
   ],
   "source": [
    "par_clusters.shape"
   ]
  },
  {
   "cell_type": "code",
   "execution_count": 76,
   "metadata": {},
   "outputs": [],
   "source": [
    "idx_to_accepted = {v:k for k,v in enumerate(accepted)}"
   ]
  },
  {
   "cell_type": "code",
   "execution_count": null,
   "metadata": {},
   "outputs": [],
   "source": []
  },
  {
   "cell_type": "code",
   "execution_count": 82,
   "metadata": {},
   "outputs": [
    {
     "data": {
      "application/vnd.jupyter.widget-view+json": {
       "model_id": "a675c737c10d4d3e85d54ac582b2ccfb",
       "version_major": 2,
       "version_minor": 0
      },
      "text/plain": [
       "HBox(children=(IntProgress(value=0, max=48695), HTML(value='')))"
      ]
     },
     "metadata": {},
     "output_type": "display_data"
    },
    {
     "name": "stdout",
     "output_type": "stream",
     "text": [
      "\n"
     ]
    }
   ],
   "source": [
    "nested_par_clusters = []\n",
    "idx = 0\n",
    "for doc in tqdm(tm_docs):\n",
    "    doc_pars= []\n",
    "    for par in doc['paragraphs']:\n",
    "        if idx in accepted_set:\n",
    "            doc_pars.append(int(par_clusters[idx_to_accepted[idx]]))\n",
    "        idx += 1\n",
    "    nested_par_clusters.append(doc_pars)"
   ]
  },
  {
   "cell_type": "code",
   "execution_count": 84,
   "metadata": {},
   "outputs": [],
   "source": [
    "json.dump(nested_par_clusters, open('results/Kmeans_nested_par_clusters.json', 'w'))"
   ]
  },
  {
   "cell_type": "code",
   "execution_count": null,
   "metadata": {},
   "outputs": [],
   "source": []
  },
  {
   "cell_type": "code",
   "execution_count": null,
   "metadata": {},
   "outputs": [],
   "source": []
  },
  {
   "cell_type": "code",
   "execution_count": 219,
   "metadata": {},
   "outputs": [],
   "source": [
    "%matplotlib inline\n",
    "import matplotlib.pyplot as plt"
   ]
  },
  {
   "cell_type": "code",
   "execution_count": 220,
   "metadata": {},
   "outputs": [],
   "source": [
    "plt.rc('font', size=18)"
   ]
  },
  {
   "cell_type": "code",
   "execution_count": 227,
   "metadata": {},
   "outputs": [
    {
     "data": {
      "text/plain": [
       "Text(0.5, 0, '# Paragraphs')"
      ]
     },
     "execution_count": 227,
     "metadata": {},
     "output_type": "execute_result"
    },
    {
     "data": {
      "image/png": "[encoded data removed]",
      "text/plain": [
       "<Figure size 576x288 with 1 Axes>"
      ]
     },
     "metadata": {
      "needs_background": "light"
     },
     "output_type": "display_data"
    }
   ],
   "source": [
    "ax = par_vecs.str.get(1).str.len().value_counts().sort_index().iloc[:25].plot(kind='bar', figsize=(8, 4))\n",
    "ax.spines['top'].set_visible(False)\n",
    "ax.spines['right'].set_visible(False)\n",
    "plt.ylabel('# Documents')\n",
    "plt.xlabel('# Paragraphs')"
   ]
  },
  {
   "cell_type": "code",
   "execution_count": 228,
   "metadata": {},
   "outputs": [],
   "source": [
    "all_vecs_arr = np.zeros((len(all_vecs), len(all_vecs[0])))\n",
    "for idx, vec in enumerate(all_vecs):\n",
    "    all_vecs_arr[idx] = vec\n",
    "\n",
    "all_vecs_arr = all_vecs_arr[np.where(~np.isnan(all_vecs_arr).any(axis=1))]"
   ]
  },
  {
   "cell_type": "code",
   "execution_count": 236,
   "metadata": {},
   "outputs": [],
   "source": [
    "from sklearn.cluster import KMeans\n",
    "import numpy as np\n",
    "kmeans = KMeans(n_clusters=5).fit(all_vecs_arr[:200000])"
   ]
  },
  {
   "cell_type": "code",
   "execution_count": 237,
   "metadata": {},
   "outputs": [
    {
     "data": {
      "text/plain": [
       "Text(0.5, 0, 'Cluster Idx')"
      ]
     },
     "execution_count": 237,
     "metadata": {},
     "output_type": "execute_result"
    },
    {
     "data": {
      "image/png": "[encoded data removed]",
      "text/plain": [
       "<Figure size 288x288 with 1 Axes>"
      ]
     },
     "metadata": {
      "needs_background": "light"
     },
     "output_type": "display_data"
    }
   ],
   "source": [
    "ax = pd.Series(kmeans.labels_).value_counts().sort_index().plot(kind='bar', figsize=(4, 4))\n",
    "ax.spines['top'].set_visible(False)\n",
    "ax.spines['right'].set_visible(False)\n",
    "plt.ylabel('Cluster Counts')\n",
    "plt.xlabel('Cluster Idx')"
   ]
  },
  {
   "cell_type": "code",
   "execution_count": 239,
   "metadata": {},
   "outputs": [
    {
     "data": {
      "text/plain": [
       "array([0, 0, 0, 0, 4, 0])"
      ]
     },
     "execution_count": 239,
     "metadata": {},
     "output_type": "execute_result"
    }
   ],
   "source": [
    "kmeans.predict(par_vecs.iloc[0][1])"
   ]
  },
  {
   "cell_type": "code",
   "execution_count": null,
   "metadata": {
    "scrolled": true
   },
   "outputs": [],
   "source": []
  },
  {
   "cell_type": "code",
   "execution_count": null,
   "metadata": {},
   "outputs": [],
   "source": []
  },
  {
   "cell_type": "code",
   "execution_count": 161,
   "metadata": {},
   "outputs": [],
   "source": [
    "from tqdm import tqdm_notebook as tqdm"
   ]
  },
  {
   "cell_type": "code",
   "execution_count": 240,
   "metadata": {},
   "outputs": [
    {
     "data": {
      "application/vnd.jupyter.widget-view+json": {
       "model_id": "5ba8dcd907b7473cbc69d103f54bce83",
       "version_major": 2,
       "version_minor": 0
      },
      "text/plain": [
       "HBox(children=(IntProgress(value=0, max=48695), HTML(value='')))"
      ]
     },
     "metadata": {},
     "output_type": "display_data"
    },
    {
     "name": "stdout",
     "output_type": "stream",
     "text": [
      "\n"
     ]
    }
   ],
   "source": [
    "par_clusters = []\n",
    "for par in tqdm( par_vecs):\n",
    "    t_par = np.zeros((len(par[1]), 50))\n",
    "    for idx, x in enumerate(par[1]):\n",
    "        t_par[idx] = x\n",
    "    t_par = t_par[np.where(~np.isnan(t_par).any(axis=1))]\n",
    "    c = kmeans.predict(t_par)\n",
    "    par_clusters.append(c)"
   ]
  },
  {
   "cell_type": "code",
   "execution_count": 241,
   "metadata": {},
   "outputs": [],
   "source": [
    "transition_mat = np.zeros((5, 5))"
   ]
  },
  {
   "cell_type": "code",
   "execution_count": 242,
   "metadata": {},
   "outputs": [],
   "source": [
    "for c in par_clusters:\n",
    "    for c_0, c_1 in list(zip(c[:-1], c[1:])):\n",
    "        transition_mat[c_0, c_1] += 1"
   ]
  },
  {
   "cell_type": "code",
   "execution_count": 243,
   "metadata": {},
   "outputs": [],
   "source": [
    "import seaborn as sns"
   ]
  },
  {
   "cell_type": "code",
   "execution_count": 244,
   "metadata": {},
   "outputs": [
    {
     "data": {
      "text/plain": [
       "Text(0.5, 1, 'Transition Probability')"
      ]
     },
     "execution_count": 244,
     "metadata": {},
     "output_type": "execute_result"
    },
    {
     "data": {
      "image/png": "[encoded data removed]",
      "text/plain": [
       "<Figure size 432x288 with 2 Axes>"
      ]
     },
     "metadata": {
      "needs_background": "light"
     },
     "output_type": "display_data"
    }
   ],
   "source": [
    "sns.heatmap((transition_mat.T / transition_mat.sum(axis=1)).T)\n",
    "plt.xlabel('Prev Label')\n",
    "plt.ylabel('Next Label')\n",
    "plt.title('Transition Probability')"
   ]
  },
  {
   "cell_type": "code",
   "execution_count": null,
   "metadata": {},
   "outputs": [],
   "source": [
    "par_clusters = []\n",
    "for par in tqdm( par_vecs):\n",
    "    t_par = np.zeros((len(par[1]), 50))\n",
    "    for idx, x in enumerate(par[1]):\n",
    "        t_par[idx] = x\n",
    "    t_par = t_par[np.where(~np.isnan(t_par).any(axis=1))]\n",
    "    c = kmeans.predict(t_par)\n",
    "    par_clusters.append(c)"
   ]
  }
 ],
 "metadata": {
  "hide_input": false,
  "kernelspec": {
   "display_name": "Python 3",
   "language": "python",
   "name": "python3"
  },
  "language_info": {
   "codemirror_mode": {
    "name": "ipython",
    "version": 3
   },
   "file_extension": ".py",
   "mimetype": "text/x-python",
   "name": "python",
   "nbconvert_exporter": "python",
   "pygments_lexer": "ipython3",
   "version": "3.7.3"
  },
  "latex_envs": {
   "LaTeX_envs_menu_present": true,
   "autoclose": false,
   "autocomplete": true,
   "bibliofile": "biblio.bib",
   "cite_by": "apalike",
   "current_citInitial": 1,
   "eqLabelWithNumbers": true,
   "eqNumInitial": 1,
   "hotkeys": {
    "equation": "Ctrl-E",
    "itemize": "Ctrl-I"
   },
   "labels_anchors": false,
   "latex_user_defs": false,
   "report_style_numbering": false,
   "user_envs_cfg": false
  }
 },
 "nbformat": 4,
 "nbformat_minor": 2
}
