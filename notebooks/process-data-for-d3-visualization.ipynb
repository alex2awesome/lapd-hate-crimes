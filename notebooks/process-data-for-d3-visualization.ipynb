{
 "cells": [
  {
   "cell_type": "code",
   "execution_count": 1,
   "metadata": {},
   "outputs": [],
   "source": [
    "import json\n",
    "import pandas as pd \n",
    "import os"
   ]
  },
  {
   "cell_type": "code",
   "execution_count": 2,
   "metadata": {},
   "outputs": [],
   "source": [
    "data = json.load(open('../vis/data/pulitzer-prize-records.json'))"
   ]
  },
  {
   "cell_type": "code",
   "execution_count": 3,
   "metadata": {},
   "outputs": [
    {
     "data": {
      "text/plain": [
       "dict_keys(['criticism', 'prize-categories', 'time-series-race', 'data', 'time-series-gender'])"
      ]
     },
     "execution_count": 3,
     "metadata": {},
     "output_type": "execute_result"
    }
   ],
   "source": [
    "data.keys()"
   ]
  },
  {
   "cell_type": "code",
   "execution_count": 5,
   "metadata": {},
   "outputs": [],
   "source": [
    "# data['time-series-gender'][0]"
   ]
  },
  {
   "cell_type": "code",
   "execution_count": 6,
   "metadata": {},
   "outputs": [
    {
     "data": {
      "text/plain": [
       "{'Name (Individual)': 'Herbert Bayard Swope',\n",
       " 'Prize Category': 'Reporting',\n",
       " 'Gender': 'Male',\n",
       " 'Prize Category (Corr)': 'Reporting',\n",
       " 'Race': 'White',\n",
       " 'Year': 1917.0,\n",
       " 'Name (Paper, Current)': 'New York World Journal Tribune',\n",
       " 'Name (Paper)': 'New York World'}"
      ]
     },
     "execution_count": 6,
     "metadata": {},
     "output_type": "execute_result"
    }
   ],
   "source": [
    "data['data'][0]"
   ]
  },
  {
   "cell_type": "code",
   "execution_count": 7,
   "metadata": {},
   "outputs": [
    {
     "data": {
      "text/html": [
       "<div>\n",
       "<style scoped>\n",
       "    .dataframe tbody tr th:only-of-type {\n",
       "        vertical-align: middle;\n",
       "    }\n",
       "\n",
       "    .dataframe tbody tr th {\n",
       "        vertical-align: top;\n",
       "    }\n",
       "\n",
       "    .dataframe thead th {\n",
       "        text-align: right;\n",
       "    }\n",
       "</style>\n",
       "<table border=\"1\" class=\"dataframe\">\n",
       "  <thead>\n",
       "    <tr style=\"text-align: right;\">\n",
       "      <th></th>\n",
       "      <th>Gender</th>\n",
       "      <th>Name (Individual)</th>\n",
       "      <th>Name (Paper)</th>\n",
       "      <th>Name (Paper, Current)</th>\n",
       "      <th>Prize Category</th>\n",
       "      <th>Prize Category (Corr)</th>\n",
       "      <th>Race</th>\n",
       "      <th>Year</th>\n",
       "    </tr>\n",
       "  </thead>\n",
       "  <tbody>\n",
       "    <tr>\n",
       "      <th>0</th>\n",
       "      <td>Male</td>\n",
       "      <td>Herbert Bayard Swope</td>\n",
       "      <td>New York World</td>\n",
       "      <td>New York World Journal Tribune</td>\n",
       "      <td>Reporting</td>\n",
       "      <td>Reporting</td>\n",
       "      <td>White</td>\n",
       "      <td>1917.0</td>\n",
       "    </tr>\n",
       "    <tr>\n",
       "      <th>1</th>\n",
       "      <td>Male</td>\n",
       "      <td>Harold A. Littledale</td>\n",
       "      <td>New York Evening Post</td>\n",
       "      <td>New York Post</td>\n",
       "      <td>Reporting</td>\n",
       "      <td>Reporting</td>\n",
       "      <td>White</td>\n",
       "      <td>1918.0</td>\n",
       "    </tr>\n",
       "    <tr>\n",
       "      <th>2</th>\n",
       "      <td>Female</td>\n",
       "      <td>Minna Lewinson (with Henry Beetle Hough)</td>\n",
       "      <td>School of Journalism, Columbia University</td>\n",
       "      <td>School of Journalism, Columbia University</td>\n",
       "      <td>Newspaper History Award</td>\n",
       "      <td>Newspaper History Award</td>\n",
       "      <td>White</td>\n",
       "      <td>1918.0</td>\n",
       "    </tr>\n",
       "    <tr>\n",
       "      <th>3</th>\n",
       "      <td>Male</td>\n",
       "      <td>Henry Beetle Hough (with Minna Lewinson)</td>\n",
       "      <td>School of Journalism, Columbia University</td>\n",
       "      <td>School of Journalism, Columbia University</td>\n",
       "      <td>Newspaper History Award</td>\n",
       "      <td>Newspaper History Award</td>\n",
       "      <td>White</td>\n",
       "      <td>1918.0</td>\n",
       "    </tr>\n",
       "    <tr>\n",
       "      <th>4</th>\n",
       "      <td>Male</td>\n",
       "      <td>John J. Leary</td>\n",
       "      <td>New York World</td>\n",
       "      <td>New York World Journal Tribune</td>\n",
       "      <td>Reporting</td>\n",
       "      <td>Reporting</td>\n",
       "      <td>White</td>\n",
       "      <td>1920.0</td>\n",
       "    </tr>\n",
       "  </tbody>\n",
       "</table>\n",
       "</div>"
      ],
      "text/plain": [
       "   Gender                         Name (Individual)  \\\n",
       "0    Male                      Herbert Bayard Swope   \n",
       "1    Male                      Harold A. Littledale   \n",
       "2  Female  Minna Lewinson (with Henry Beetle Hough)   \n",
       "3    Male  Henry Beetle Hough (with Minna Lewinson)   \n",
       "4    Male                             John J. Leary   \n",
       "\n",
       "                                Name (Paper)  \\\n",
       "0                             New York World   \n",
       "1                      New York Evening Post   \n",
       "2  School of Journalism, Columbia University   \n",
       "3  School of Journalism, Columbia University   \n",
       "4                             New York World   \n",
       "\n",
       "                       Name (Paper, Current)           Prize Category  \\\n",
       "0             New York World Journal Tribune                Reporting   \n",
       "1                              New York Post                Reporting   \n",
       "2  School of Journalism, Columbia University  Newspaper History Award   \n",
       "3  School of Journalism, Columbia University  Newspaper History Award   \n",
       "4             New York World Journal Tribune                Reporting   \n",
       "\n",
       "     Prize Category (Corr)   Race    Year  \n",
       "0                Reporting  White  1917.0  \n",
       "1                Reporting  White  1918.0  \n",
       "2  Newspaper History Award  White  1918.0  \n",
       "3  Newspaper History Award  White  1918.0  \n",
       "4                Reporting  White  1920.0  "
      ]
     },
     "execution_count": 7,
     "metadata": {},
     "output_type": "execute_result"
    }
   ],
   "source": [
    "pd.DataFrame(data['data']).head()"
   ]
  },
  {
   "cell_type": "code",
   "execution_count": 8,
   "metadata": {},
   "outputs": [
    {
     "data": {
      "text/plain": [
       "['all_records_df.csv',\n",
       " 'CCADMANUAL 2019 040319 - excl. SAR codes.pdf',\n",
       " 'glove.6B.50d.txt',\n",
       " 'merged_records_df.csv',\n",
       " 'MO_codes.docx',\n",
       " 'mo_codes_matched.csv',\n",
       " 'nyt-corpus-crime-stores-lemmatized.csv',\n",
       " 'nyt-corpus-crime-stores.csv',\n",
       " 'raw_data.csv',\n",
       " 'Xtown_ 2019 Hate Crime Write-Ups.txt',\n",
       " 'Xtown_ Hate Crime Redesign - Sheet1.csv',\n",
       " '~$_codes.docx']"
      ]
     },
     "execution_count": 8,
     "metadata": {},
     "output_type": "execute_result"
    }
   ],
   "source": [
    "os.listdir('../data/')"
   ]
  },
  {
   "cell_type": "code",
   "execution_count": 3,
   "metadata": {},
   "outputs": [],
   "source": [
    "hate_crime_records = pd.read_csv('../data/merged_records_df.csv')"
   ]
  },
  {
   "cell_type": "code",
   "execution_count": 5,
   "metadata": {},
   "outputs": [
    {
     "data": {
      "text/plain": [
       "Index(['Crime', 'Datetime', 'Description', 'Location_x', 'Neighborhood_x',\n",
       "       'Suspect Actions', 'Weapon', 'Number', '@Photos', 'norm_date', 'Dr No',\n",
       "       'Area ID', 'Area Name', 'Crm Cd', 'Crm Cd 1', 'Crm Cd 2', 'Crm Cd 3',\n",
       "       'Crm Cd 4', 'Crm Cd Desc', 'Cross Street', 'Date Occ', 'Date Rp Td',\n",
       "       'Latitude', 'Location_y', 'Location 1', 'Longitude', 'Mo Codes',\n",
       "       'Neighborhood_y', 'Neighborhood Council', 'Prem Is Cd', 'Prem Is Desc',\n",
       "       'Rpt Dist No', 'Status', 'Status Desc', 'Time Occ', 'Tract', 'Vict Age',\n",
       "       'Vict Descent', 'Vict Sex', 'Weapon Desc', 'Weapon Used Cd',\n",
       "       'Zip Code'],\n",
       "      dtype='object')"
      ]
     },
     "execution_count": 5,
     "metadata": {},
     "output_type": "execute_result"
    }
   ],
   "source": [
    "hate_crime_records.columns"
   ]
  },
  {
   "cell_type": "code",
   "execution_count": 10,
   "metadata": {
    "scrolled": true
   },
   "outputs": [],
   "source": [
    "hate_crime_records['Vict Descent'] = hate_crime_records['Vict Descent'].map({\n",
    "    'H': 'Hispanic',\n",
    "    'B': 'Black',\n",
    "    'W': 'White',\n",
    "    'X': 'Unknown',\n",
    "    'O': 'Other',\n",
    "    'A': 'Asian'\n",
    "})#.value_counts()"
   ]
  },
  {
   "cell_type": "code",
   "execution_count": 11,
   "metadata": {},
   "outputs": [],
   "source": [
    "hate_crime_records['Vict Sex'] = (hate_crime_records['Vict Sex']\n",
    " .map({\n",
    "     'M': 'Male',\n",
    "     'F': 'Female',\n",
    "     'X': 'Other'\n",
    " }))#.value_counts())"
   ]
  },
  {
   "cell_type": "code",
   "execution_count": 12,
   "metadata": {},
   "outputs": [],
   "source": [
    "category_mapping = {\n",
    "    'Aggravated assault':                    'Aggravated assault',\n",
    "    'Criminal threats':                      'Criminal threats',\n",
    "    'Vandalism':                             'Vandalism',\n",
    "    'Battery -- simple assault':             'Simple assault',\n",
    "    'BATTERY - SIMPLE ASSAULT':              'Simple assault',\n",
    "    'Miscellaneous crime':                   'Miscellaneous crime',\n",
    "    'Simple assault':                        'Simple assault',\n",
    "    'Criminal threats, no weapon displayed': 'Criminal threats',\n",
    "    'Vandalism (Misdemeanor)':               'Vandalism',\n",
    "    'Brandish a weapon':                     'Brandish a weapon',\n",
    "    'Simple Assault':                        'Simple assault',\n",
    "    'Vandalism (Felony)':                    'Vandalism',\n",
    "    'Other assault':                         'Other assault',\n",
    "    'Robbery':                               'Robbery',\n",
    "    'Crime against children':                'Crime against children',\n",
    "    'Criminal threat':                       'Criminal threats',\n",
    "    'Trespassing':                           'Trespassing',\n",
    "    'Threatening phone calls or /letters':   'Threatening letter/telephone call',\n",
    "    'Vandalism (felony)':                    'Vandalism',\n",
    "    'Burglary':                              'Robbery',\n",
    "    'Vandalism (misdemeanor)':               'Vandalism',\n",
    "    'Lewd letter/telephone call':            'Lewd letter/telephone call',\n",
    "}"
   ]
  },
  {
   "cell_type": "code",
   "execution_count": 13,
   "metadata": {},
   "outputs": [],
   "source": [
    "hate_crime_records['Crime'] = hate_crime_records['Crime'].str.strip().map(category_mapping)\n",
    "# .value_counts()"
   ]
  },
  {
   "cell_type": "code",
   "execution_count": 14,
   "metadata": {},
   "outputs": [
    {
     "data": {
      "text/plain": [
       "Aggravated assault                   70\n",
       "Criminal threats                     54\n",
       "Vandalism                            49\n",
       "Simple assault                       40\n",
       "Miscellaneous crime                   8\n",
       "Other assault                         3\n",
       "Robbery                               3\n",
       "Brandish a weapon                     3\n",
       "Lewd letter/telephone call            1\n",
       "Threatening letter/telephone call     1\n",
       "Trespassing                           1\n",
       "Crime against children                1\n",
       "Name: Crime, dtype: int64"
      ]
     },
     "execution_count": 14,
     "metadata": {},
     "output_type": "execute_result"
    }
   ],
   "source": [
    "hate_crime_records['Crime'].value_counts()"
   ]
  },
  {
   "cell_type": "code",
   "execution_count": 15,
   "metadata": {},
   "outputs": [],
   "source": [
    "hate_crime_records = hate_crime_records.rename(columns=lambda x: x.replace('_x', ''))"
   ]
  },
  {
   "cell_type": "code",
   "execution_count": 34,
   "metadata": {},
   "outputs": [],
   "source": [
    "useful_cols = [\n",
    "    'Crime',\n",
    "    'Datetime',\n",
    "    'Description',\n",
    "    'Weapon',\n",
    "    'Location',\n",
    "    'Neighborhood',\n",
    "    'Crm Cd Desc',\n",
    "    'Vict Age',\n",
    "    'Vict Descent',\n",
    "    'Vict Sex',\n",
    "    'norm_date',\n",
    "    'Subject Motivation'\n",
    "]"
   ]
  },
  {
   "cell_type": "code",
   "execution_count": 17,
   "metadata": {},
   "outputs": [],
   "source": [
    "hate_crime_records['norm_dt'] = pd.to_datetime(hate_crime_records['norm_date'])"
   ]
  },
  {
   "cell_type": "code",
   "execution_count": 18,
   "metadata": {},
   "outputs": [],
   "source": [
    "crime_over_time = (hate_crime_records\n",
    "    .assign(c=1)\n",
    "    .groupby(pd.Grouper(key='norm_dt', freq='1M'))['c'].sum()\n",
    ")\n",
    "\n",
    "crime_over_time = (crime_over_time\n",
    " .reset_index()\n",
    " .assign(date=lambda df: \n",
    "     df['norm_dt']\n",
    "         .dt.strftime('%Y-%m')\n",
    "    )\n",
    " .rename(columns={'c':'count'})\n",
    " [['date', 'count']]\n",
    " .to_dict(orient='records')\n",
    ")"
   ]
  },
  {
   "cell_type": "code",
   "execution_count": 19,
   "metadata": {},
   "outputs": [],
   "source": [
    "biases = [\n",
    "'Mental Disability',\n",
    "'Physical disability',\n",
    "'Anti-female',\n",
    "'Anti-male',\n",
    "'Anti-Gender non-conforming',\n",
    "'Anti-Transgender',\n",
    "'Anti-American/Alaskan Native',\n",
    "'Anti-Arab',\n",
    "'Anti-Asian',\n",
    "'Ant-Black or African American',\n",
    "'Anti-Citizenship Status',\n",
    "'Anti-Hispanic or Latino',\n",
    "'Anti-Multiple Races (Group)',\n",
    "'Anti-Native Hawaiian or Other Pacific Islander',\n",
    "'Anti-Other Race/Ethnicity/Ancestry',\n",
    "'Anti-White',\n",
    "'Anti-Atheism/Agnosticism',\n",
    "'Anti-Buddhist',\n",
    "'Anti-Catholic',\n",
    "'Anti-Eastern Orthodox (Russian/Greek/Other)',\n",
    "'Anti-Hindu',\n",
    "'Anti-Islamic (Muslim)',\n",
    "'Anti-Jehovah’s Witness',\n",
    "'Anti-Jewish',\n",
    "'Anti-Mormon',\n",
    "'Anti-Multiple Religions Group',\n",
    "'Anti-Other Christian',\n",
    "'Anti-Other Religion',\n",
    "'Anti-Protestant',\n",
    "'Anti-Sikh',\n",
    "'Anti-Bisexual',\n",
    "'Anti-Gay (Male)',\n",
    "'Anti-Heterosexual',\n",
    "'Anti-Lesbian',\n",
    "'Anti-Lesbian/Gay/Bisexual or Transgender (Mixed Group)',\n",
    "]\n",
    "\n",
    "import numpy as np\n",
    "\n",
    "hate_crime_records['Subject Motivation'] = np.random.choice(biases, size=len(hate_crime_records))"
   ]
  },
  {
   "cell_type": "code",
   "execution_count": 35,
   "metadata": {},
   "outputs": [],
   "source": [
    "output=  {}\n",
    "output['data'] = hate_crime_records[useful_cols].fillna('').to_dict(orient='records')\n",
    "output['crime-categories'] = hate_crime_records['Crime'].value_counts().index.tolist()\n",
    "output['time-series'] = [\n",
    "    {'values': crime_over_time,\n",
    "     'key': 'all'\n",
    "    }\n",
    "]\n",
    "\n",
    "with open('../vis/data/crime-data.json', 'w') as f:\n",
    "    json.dump(output, f)"
   ]
  },
  {
   "cell_type": "code",
   "execution_count": null,
   "metadata": {},
   "outputs": [],
   "source": []
  },
  {
   "cell_type": "markdown",
   "metadata": {},
   "source": [
    "# Switch over to APIs"
   ]
  },
  {
   "cell_type": "code",
   "execution_count": 3,
   "metadata": {},
   "outputs": [],
   "source": [
    "with open('../vis/data/crime-data.json',) as f:\n",
    "    output = json.load(f)"
   ]
  },
  {
   "cell_type": "code",
   "execution_count": 5,
   "metadata": {},
   "outputs": [
    {
     "data": {
      "text/plain": [
       "dict_keys(['data', 'crime-categories', 'time-series'])"
      ]
     },
     "execution_count": 5,
     "metadata": {},
     "output_type": "execute_result"
    }
   ],
   "source": [
    "output.keys()"
   ]
  },
  {
   "cell_type": "code",
   "execution_count": 7,
   "metadata": {},
   "outputs": [
    {
     "data": {
      "text/plain": [
       "{'Crime': 'Vandalism',\n",
       " 'Datetime': '11:30 p.m. January 7, 2019',\n",
       " 'Description': 'The suspect vandalized property at Marmion Apartments, resulting in damage of $400 or less.',\n",
       " 'Weapon': 'No weapon used',\n",
       " 'Location': '3500 block of Marmion Way, Los Angeles',\n",
       " 'Neighborhood': 'Cypress Park',\n",
       " 'Crm Cd Desc': 'VANDALISM - MISDEAMEANOR ($399 OR UNDER)',\n",
       " 'Vict Age': 0.0,\n",
       " 'Vict Descent': 'Unknown',\n",
       " 'Vict Sex': 'Other',\n",
       " 'norm_date': '2019-01-07',\n",
       " 'Subject Motivation': 'Anti-Hindu'}"
      ]
     },
     "execution_count": 7,
     "metadata": {},
     "output_type": "execute_result"
    }
   ],
   "source": [
    "output['data'][0]"
   ]
  },
  {
   "cell_type": "code",
   "execution_count": 6,
   "metadata": {},
   "outputs": [
    {
     "data": {
      "text/plain": [
       "['Aggravated assault',\n",
       " 'Criminal threats',\n",
       " 'Vandalism',\n",
       " 'Simple assault',\n",
       " 'Miscellaneous crime',\n",
       " 'Other assault',\n",
       " 'Robbery',\n",
       " 'Brandish a weapon',\n",
       " 'Lewd letter/telephone call',\n",
       " 'Threatening letter/telephone call',\n",
       " 'Trespassing',\n",
       " 'Crime against children']"
      ]
     },
     "execution_count": 6,
     "metadata": {},
     "output_type": "execute_result"
    }
   ],
   "source": [
    "output['crime-categories']"
   ]
  },
  {
   "cell_type": "code",
   "execution_count": 8,
   "metadata": {},
   "outputs": [],
   "source": [
    "import requests"
   ]
  },
  {
   "cell_type": "code",
   "execution_count": 9,
   "metadata": {},
   "outputs": [],
   "source": [
    "resp = requests.get('https://dev.api.xtown.la/api/crimes/hate_crimes')"
   ]
  },
  {
   "cell_type": "code",
   "execution_count": 10,
   "metadata": {},
   "outputs": [],
   "source": [
    "hate_crimes_data = resp.json()"
   ]
  },
  {
   "cell_type": "code",
   "execution_count": 21,
   "metadata": {},
   "outputs": [],
   "source": [
    "api_df = pd.DataFrame(hate_crimes_data['result']['data'])"
   ]
  },
  {
   "cell_type": "code",
   "execution_count": 33,
   "metadata": {},
   "outputs": [
    {
     "data": {
      "text/html": [
       "<div>\n",
       "<style scoped>\n",
       "    .dataframe tbody tr th:only-of-type {\n",
       "        vertical-align: middle;\n",
       "    }\n",
       "\n",
       "    .dataframe tbody tr th {\n",
       "        vertical-align: top;\n",
       "    }\n",
       "\n",
       "    .dataframe thead th {\n",
       "        text-align: right;\n",
       "    }\n",
       "</style>\n",
       "<table border=\"1\" class=\"dataframe\">\n",
       "  <thead>\n",
       "    <tr style=\"text-align: right;\">\n",
       "      <th></th>\n",
       "      <th>crm_cd_desc</th>\n",
       "      <th>date_occ</th>\n",
       "      <th>mocodes</th>\n",
       "      <th>neighborhood</th>\n",
       "      <th>small_bundle_name</th>\n",
       "      <th>time_occ</th>\n",
       "      <th>vict_age</th>\n",
       "      <th>vict_descent</th>\n",
       "      <th>vict_sex</th>\n",
       "      <th>weapon_desc</th>\n",
       "    </tr>\n",
       "  </thead>\n",
       "  <tbody>\n",
       "    <tr>\n",
       "      <th>0</th>\n",
       "      <td>LETTERS, LEWD - TELEPHONE CALLS, LEWD</td>\n",
       "      <td>2020-02-26T00:00:00.000Z</td>\n",
       "      <td>1906 0903 2036 1820</td>\n",
       "      <td>west-hills</td>\n",
       "      <td>lewd conduct</td>\n",
       "      <td>1500</td>\n",
       "      <td>31</td>\n",
       "      <td>W</td>\n",
       "      <td>M</td>\n",
       "      <td>None</td>\n",
       "    </tr>\n",
       "    <tr>\n",
       "      <th>1</th>\n",
       "      <td>BRANDISH WEAPON</td>\n",
       "      <td>2020-02-25T00:00:00.000Z</td>\n",
       "      <td>0903 0334 0319 1822 1266 1202</td>\n",
       "      <td>hollywood</td>\n",
       "      <td>threats</td>\n",
       "      <td>2015</td>\n",
       "      <td>66</td>\n",
       "      <td>W</td>\n",
       "      <td>M</td>\n",
       "      <td>OTHER KNIFE</td>\n",
       "    </tr>\n",
       "    <tr>\n",
       "      <th>2</th>\n",
       "      <td>ARSON</td>\n",
       "      <td>2020-02-25T00:00:00.000Z</td>\n",
       "      <td>0903 1300 1309 1822 0447 1402</td>\n",
       "      <td>hollywood</td>\n",
       "      <td>arson</td>\n",
       "      <td>2117</td>\n",
       "      <td>0</td>\n",
       "      <td>X</td>\n",
       "      <td>X</td>\n",
       "      <td>BOTTLE</td>\n",
       "    </tr>\n",
       "    <tr>\n",
       "      <th>3</th>\n",
       "      <td>ASSAULT WITH DEADLY WEAPON, AGGRAVATED ASSAULT</td>\n",
       "      <td>2020-02-23T00:00:00.000Z</td>\n",
       "      <td>0903 1239 1510 0334 1822 1218</td>\n",
       "      <td>south-park</td>\n",
       "      <td>assault with a deadly weapon</td>\n",
       "      <td>1200</td>\n",
       "      <td>44</td>\n",
       "      <td>W</td>\n",
       "      <td>F</td>\n",
       "      <td>OTHER CUTTING INSTRUMENT</td>\n",
       "    </tr>\n",
       "    <tr>\n",
       "      <th>4</th>\n",
       "      <td>OTHER ASSAULT</td>\n",
       "      <td>2020-02-21T00:00:00.000Z</td>\n",
       "      <td>0913 0319 0356 0361 1536 1222 0903</td>\n",
       "      <td>silver-lake</td>\n",
       "      <td>other assault</td>\n",
       "      <td>1630</td>\n",
       "      <td>33</td>\n",
       "      <td>O</td>\n",
       "      <td>M</td>\n",
       "      <td>UNKNOWN WEAPON/OTHER WEAPON</td>\n",
       "    </tr>\n",
       "  </tbody>\n",
       "</table>\n",
       "</div>"
      ],
      "text/plain": [
       "                                      crm_cd_desc                  date_occ  \\\n",
       "0           LETTERS, LEWD - TELEPHONE CALLS, LEWD  2020-02-26T00:00:00.000Z   \n",
       "1                                 BRANDISH WEAPON  2020-02-25T00:00:00.000Z   \n",
       "2                                           ARSON  2020-02-25T00:00:00.000Z   \n",
       "3  ASSAULT WITH DEADLY WEAPON, AGGRAVATED ASSAULT  2020-02-23T00:00:00.000Z   \n",
       "4                                   OTHER ASSAULT  2020-02-21T00:00:00.000Z   \n",
       "\n",
       "                              mocodes neighborhood  \\\n",
       "0                 1906 0903 2036 1820   west-hills   \n",
       "1       0903 0334 0319 1822 1266 1202    hollywood   \n",
       "2       0903 1300 1309 1822 0447 1402    hollywood   \n",
       "3       0903 1239 1510 0334 1822 1218   south-park   \n",
       "4  0913 0319 0356 0361 1536 1222 0903  silver-lake   \n",
       "\n",
       "              small_bundle_name time_occ  vict_age vict_descent vict_sex  \\\n",
       "0                  lewd conduct     1500        31            W        M   \n",
       "1                       threats     2015        66            W        M   \n",
       "2                         arson     2117         0            X        X   \n",
       "3  assault with a deadly weapon     1200        44            W        F   \n",
       "4                 other assault     1630        33            O        M   \n",
       "\n",
       "                   weapon_desc  \n",
       "0                         None  \n",
       "1                  OTHER KNIFE  \n",
       "2                       BOTTLE  \n",
       "3     OTHER CUTTING INSTRUMENT  \n",
       "4  UNKNOWN WEAPON/OTHER WEAPON  "
      ]
     },
     "execution_count": 33,
     "metadata": {},
     "output_type": "execute_result"
    }
   ],
   "source": [
    "api_df.head()"
   ]
  },
  {
   "cell_type": "code",
   "execution_count": 24,
   "metadata": {},
   "outputs": [
    {
     "data": {
      "text/plain": [
       "vandalism                       87\n",
       "assorted assault                82\n",
       "threats                         78\n",
       "assault with a deadly weapon    55\n",
       "miscellaneous crimes             9\n",
       "robbery                          9\n",
       "other assault                    8\n",
       "burglary                         6\n",
       "child abuse                      4\n",
       "lewd conduct                     2\n",
       "sex offenses                     1\n",
       "arson                            1\n",
       "trespassing                      1\n",
       "domestic violence                1\n",
       "homicide                         1\n",
       "Name: small_bundle_name, dtype: int64"
      ]
     },
     "execution_count": 24,
     "metadata": {},
     "output_type": "execute_result"
    }
   ],
   "source": [
    "api_df['small_bundle_name'].value_counts()"
   ]
  },
  {
   "cell_type": "code",
   "execution_count": 32,
   "metadata": {},
   "outputs": [
    {
     "data": {
      "text/plain": [
       "H    99\n",
       "B    84\n",
       "W    72\n",
       "X    50\n",
       "O    37\n",
       "A     3\n",
       "Name: vict_descent, dtype: int64"
      ]
     },
     "execution_count": 32,
     "metadata": {},
     "output_type": "execute_result"
    }
   ],
   "source": [
    "api_df['vict_descent'].value_counts()"
   ]
  },
  {
   "cell_type": "code",
   "execution_count": 26,
   "metadata": {},
   "outputs": [],
   "source": [
    "static_df = pd.DataFrame(output['data'])"
   ]
  },
  {
   "cell_type": "code",
   "execution_count": 29,
   "metadata": {},
   "outputs": [
    {
     "data": {
      "text/plain": [
       "Aggravated assault                   70\n",
       "Criminal threats                     54\n",
       "Vandalism                            49\n",
       "Simple assault                       40\n",
       "Miscellaneous crime                   8\n",
       "Robbery                               3\n",
       "Other assault                         3\n",
       "Brandish a weapon                     3\n",
       "Crime against children                1\n",
       "Lewd letter/telephone call            1\n",
       "Trespassing                           1\n",
       "Threatening letter/telephone call     1\n",
       "Name: Crime, dtype: int64"
      ]
     },
     "execution_count": 29,
     "metadata": {},
     "output_type": "execute_result"
    }
   ],
   "source": [
    "static_df['Crime'].value_counts()"
   ]
  },
  {
   "cell_type": "code",
   "execution_count": 35,
   "metadata": {},
   "outputs": [],
   "source": [
    "bias_code_mapping = {\n",
    "'1505': 'Mental Disability',\n",
    "'1506': 'Physical disability',\n",
    "'1507': 'Anti-female',\n",
    "'1508': 'Anti-male',\n",
    "'1509': 'Anti-Gender non-conforming',\n",
    "'1510': 'Anti-Transgender',\n",
    "'1511': 'Anti-American/Alaskan Native',\n",
    "'1512': 'Anti-Arab',\n",
    "'1513': 'Anti-Asian',\n",
    "'1514': 'Anti-Black or African American',\n",
    "'1515': 'Anti-Citizenship Status',\n",
    "'1516': 'Anti-Hispanic or Latino',\n",
    "'1517': 'Anti-Multiple Races (Group)',\n",
    "'1518': 'Anti-Native Hawaiian or Other Pacific Islander',\n",
    "'1519': 'Anti-Other Race/Ethnicity/Ancestry',\n",
    "'1520': 'Anti-White',\n",
    "'1521': 'Anti-Atheism/Agnosticism',\n",
    "'1522': 'Anti-Buddhist',\n",
    "'1523': 'Anti-Catholic',\n",
    "'1524': 'Anti-Eastern Orthodox (Russian/Greek/Other)',\n",
    "'1525': 'Anti-Hindu',\n",
    "'1526': 'Anti-Islamic (Muslim)',\n",
    "'1527': 'Anti-Jehovah’s Witness',\n",
    "'1528': 'Anti-Jewish',\n",
    "'1529': 'Anti-Mormon',\n",
    "'1530': 'Anti-Multiple Religions Group',\n",
    "'1531': 'Anti-Other Christian',\n",
    "'1532': 'Anti-Other Religion',\n",
    "'1533': 'Anti-Protestant',\n",
    "'1534': 'Anti-Sikh',\n",
    "'1535': 'Anti-Bisexual',\n",
    "'1536': 'Anti-Gay (Male)',\n",
    "'1537': 'Anti-Heterosexual',\n",
    "'1538': 'Anti-Lesbian',\n",
    "'1539': 'Anti-Lesbian/Gay/Bisexual or Transgender (Mixed Group)',\n",
    "}"
   ]
  },
  {
   "cell_type": "code",
   "execution_count": 38,
   "metadata": {},
   "outputs": [],
   "source": [
    "def map_bias(row):\n",
    "    output = []\n",
    "    for key, value in bias_code_mapping.items():\n",
    "        if key in row:\n",
    "            output.append(value)\n",
    "    return output"
   ]
  },
  {
   "cell_type": "markdown",
   "metadata": {},
   "source": [
    "# Visualize Time Data"
   ]
  },
  {
   "cell_type": "code",
   "execution_count": 52,
   "metadata": {},
   "outputs": [],
   "source": [
    "import matplotlib.pyplot as plt\n",
    "plt.rc('font', size=16)"
   ]
  },
  {
   "cell_type": "code",
   "execution_count": 58,
   "metadata": {},
   "outputs": [],
   "source": [
    "hate_crime_records['norm_date'] = pd.to_datetime(hate_crime_records['norm_date'])"
   ]
  },
  {
   "cell_type": "code",
   "execution_count": 59,
   "metadata": {},
   "outputs": [
    {
     "data": {
      "image/png": "[encoded data removed]",
      "text/plain": [
       "<Figure size 576x288 with 1 Axes>"
      ]
     },
     "metadata": {
      "needs_background": "light"
     },
     "output_type": "display_data"
    }
   ],
   "source": [
    "ax = (hate_crime_records\n",
    " .assign(c=1)\n",
    " .groupby(pd.Grouper(key='norm_date', freq='7D'))['c']\n",
    " .sum()\n",
    " .plot(figsize=(8, 4))\n",
    ")\n",
    "ax.spines['right'].set_visible(False)\n",
    "ax.spines['top'].set_visible(False)\n",
    "ax.set_ylabel('Crime Count per Week')\n",
    "ax.set_xlabel('Date');"
   ]
  },
  {
   "cell_type": "code",
   "execution_count": 82,
   "metadata": {},
   "outputs": [],
   "source": [
    "import datetime\n",
    "import dateutil\n",
    "import math"
   ]
  },
  {
   "cell_type": "code",
   "execution_count": 87,
   "metadata": {},
   "outputs": [],
   "source": [
    "plots = []\n",
    "max_date = hate_crime_records['norm_date'].max()\n",
    "for i in range(1, 7):\n",
    "    proximal_window_start = max_date - datetime.timedelta(days=30 * i)\n",
    "    distal_window_start = proximal_window_start - datetime.timedelta(days=30 * i)\n",
    "    \n",
    "    proximal_window = hate_crime_records['norm_date'].apply(lambda x: proximal_window_start <= x < max_date).sum()\n",
    "    distal_window = hate_crime_records['norm_date'].apply(lambda x: distal_window_start <= x < proximal_window_start).sum()\n",
    "    \n",
    "    t = pd.Series({\n",
    "        '0-%d' % (30*i): proximal_window,\n",
    "        '%d-%d' % (30*i, 30*i*2): distal_window\n",
    "    })\n",
    "    plots.append(t)"
   ]
  },
  {
   "cell_type": "code",
   "execution_count": 102,
   "metadata": {},
   "outputs": [
    {
     "data": {
      "image/png": "[encoded data removed]",
      "text/plain": [
       "<Figure size 1008x576 with 6 Axes>"
      ]
     },
     "metadata": {
      "needs_background": "light"
     },
     "output_type": "display_data"
    }
   ],
   "source": [
    "n_rows = 2\n",
    "n_cols = math.ceil(len(plots)/ n_rows)\n",
    "\n",
    "f, axarr = plt.subplots(n_rows, n_cols, figsize=(14, 8))\n",
    "for i, data in enumerate(plots):\n",
    "    ax = data.plot(ax=axarr[int(i/n_cols), i % n_cols], kind='bar')\n",
    "    ax.set_xticklabels(labels=ax.get_xticklabels(), rotation=45, horizontalalignment='right')\n",
    "    ax.spines['right'].set_visible(False)\n",
    "    ax.spines['top'].set_visible(False)\n",
    "    ax.set_ylabel('Crime Count')\n",
    "    ax.set_xlabel('Days Back')\n",
    "    \n",
    "plt.tight_layout()"
   ]
  },
  {
   "cell_type": "markdown",
   "metadata": {},
   "source": [
    "# time data"
   ]
  },
  {
   "cell_type": "code",
   "execution_count": 46,
   "metadata": {},
   "outputs": [],
   "source": [
    "resp = requests.get('https://dev.api.xtown.la/api/crimes/hate_crimes/monthly?from=1262304000000')\n",
    "time_data = resp.json()"
   ]
  },
  {
   "cell_type": "code",
   "execution_count": 51,
   "metadata": {},
   "outputs": [],
   "source": [
    "time_df = pd.DataFrame(time_data['result']['data'])"
   ]
  },
  {
   "cell_type": "code",
   "execution_count": 53,
   "metadata": {},
   "outputs": [],
   "source": [
    "import datetime"
   ]
  },
  {
   "cell_type": "code",
   "execution_count": 72,
   "metadata": {},
   "outputs": [
    {
     "data": {
      "text/html": [
       "<div>\n",
       "<style scoped>\n",
       "    .dataframe tbody tr th:only-of-type {\n",
       "        vertical-align: middle;\n",
       "    }\n",
       "\n",
       "    .dataframe tbody tr th {\n",
       "        vertical-align: top;\n",
       "    }\n",
       "\n",
       "    .dataframe thead th {\n",
       "        text-align: right;\n",
       "    }\n",
       "</style>\n",
       "<table border=\"1\" class=\"dataframe\">\n",
       "  <thead>\n",
       "    <tr style=\"text-align: right;\">\n",
       "      <th></th>\n",
       "      <th>crime_count</th>\n",
       "      <th>month</th>\n",
       "      <th>year</th>\n",
       "    </tr>\n",
       "  </thead>\n",
       "  <tbody>\n",
       "    <tr>\n",
       "      <th>0</th>\n",
       "      <td>11</td>\n",
       "      <td>1</td>\n",
       "      <td>2010</td>\n",
       "    </tr>\n",
       "    <tr>\n",
       "      <th>1</th>\n",
       "      <td>11</td>\n",
       "      <td>2</td>\n",
       "      <td>2010</td>\n",
       "    </tr>\n",
       "    <tr>\n",
       "      <th>2</th>\n",
       "      <td>20</td>\n",
       "      <td>3</td>\n",
       "      <td>2010</td>\n",
       "    </tr>\n",
       "    <tr>\n",
       "      <th>3</th>\n",
       "      <td>15</td>\n",
       "      <td>4</td>\n",
       "      <td>2010</td>\n",
       "    </tr>\n",
       "    <tr>\n",
       "      <th>4</th>\n",
       "      <td>16</td>\n",
       "      <td>5</td>\n",
       "      <td>2010</td>\n",
       "    </tr>\n",
       "  </tbody>\n",
       "</table>\n",
       "</div>"
      ],
      "text/plain": [
       "  crime_count  month  year\n",
       "0          11      1  2010\n",
       "1          11      2  2010\n",
       "2          20      3  2010\n",
       "3          15      4  2010\n",
       "4          16      5  2010"
      ]
     },
     "execution_count": 72,
     "metadata": {},
     "output_type": "execute_result"
    }
   ],
   "source": [
    "time_df.head()"
   ]
  },
  {
   "cell_type": "code",
   "execution_count": 74,
   "metadata": {},
   "outputs": [],
   "source": [
    "import matplotlib.pyplot as plt"
   ]
  },
  {
   "cell_type": "code",
   "execution_count": 77,
   "metadata": {},
   "outputs": [
    {
     "data": {
      "text/plain": [
       "[<matplotlib.lines.Line2D at 0x1d9948ee7b8>]"
      ]
     },
     "execution_count": 77,
     "metadata": {},
     "output_type": "execute_result"
    },
    {
     "data": {
      "image/png": "[encoded data removed]",
      "text/plain": [
       "<Figure size 432x288 with 1 Axes>"
      ]
     },
     "metadata": {
      "needs_background": "light"
     },
     "output_type": "display_data"
    }
   ],
   "source": [
    "plt.plot([1,2,3], [1,2,3])\n",
    "plt.plot([2,2,3], [1,2,3])"
   ]
  },
  {
   "cell_type": "code",
   "execution_count": 93,
   "metadata": {},
   "outputs": [
    {
     "data": {
      "image/png": "[encoded data removed]",
      "text/plain": [
       "<Figure size 432x288 with 1 Axes>"
      ]
     },
     "metadata": {
      "needs_background": "light"
     },
     "output_type": "display_data"
    }
   ],
   "source": [
    "## pandas command\n",
    "ax = (time_df\n",
    "         .assign(date=lambda df: df.apply(lambda x: datetime.date(x['year'], x['month'], 1), axis=1))\n",
    "         .set_index('date')\n",
    "         ['crime_count']\n",
    "         .astype(int)\n",
    "         .plot()\n",
    ")\n",
    "\n",
    "\n",
    "## matplotlib command\n",
    "ax.spines['right'].set_visible(False)\n",
    "ax.spines['top'].set_visible(False)"
   ]
  },
  {
   "cell_type": "code",
   "execution_count": null,
   "metadata": {},
   "outputs": [],
   "source": []
  }
 ],
 "metadata": {
  "hide_input": false,
  "kernelspec": {
   "display_name": "Python 3",
   "language": "python",
   "name": "python3"
  },
  "language_info": {
   "codemirror_mode": {
    "name": "ipython",
    "version": 3
   },
   "file_extension": ".py",
   "mimetype": "text/x-python",
   "name": "python",
   "nbconvert_exporter": "python",
   "pygments_lexer": "ipython3",
   "version": "3.7.3"
  },
  "latex_envs": {
   "LaTeX_envs_menu_present": true,
   "autoclose": false,
   "autocomplete": true,
   "bibliofile": "biblio.bib",
   "cite_by": "apalike",
   "current_citInitial": 1,
   "eqLabelWithNumbers": true,
   "eqNumInitial": 1,
   "hotkeys": {
    "equation": "Ctrl-E",
    "itemize": "Ctrl-I"
   },
   "labels_anchors": false,
   "latex_user_defs": false,
   "report_style_numbering": false,
   "user_envs_cfg": false
  }
 },
 "nbformat": 4,
 "nbformat_minor": 2
}
